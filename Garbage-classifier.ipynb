{
  "nbformat": 4,
  "nbformat_minor": 0,
  "metadata": {
    "colab": {
      "name": "Untitled2.ipynb",
      "provenance": [],
      "authorship_tag": "ABX9TyPRbRRUvpziDpPuH6WAPsr3",
      "include_colab_link": true
    },
    "kernelspec": {
      "name": "python3",
      "display_name": "Python 3"
    },
    "accelerator": "GPU"
  },
  "cells": [
    {
      "cell_type": "markdown",
      "metadata": {
        "id": "view-in-github",
        "colab_type": "text"
      },
      "source": [
        "<a href=\"https://colab.research.google.com/github/sumitkuml/Garbage-classification/blob/master/Garbage-classifier.ipynb\" target=\"_parent\"><img src=\"https://colab.research.google.com/assets/colab-badge.svg\" alt=\"Open In Colab\"/></a>"
      ]
    },
    {
      "cell_type": "code",
      "metadata": {
        "id": "jdwMCAeJTtbZ",
        "colab_type": "code",
        "colab": {}
      },
      "source": [
        "#Garbage classification"
      ],
      "execution_count": 0,
      "outputs": []
    },
    {
      "cell_type": "code",
      "metadata": {
        "id": "6PZcOaORu8G6",
        "colab_type": "code",
        "colab": {}
      },
      "source": [
        " ! pip install -q kaggle"
      ],
      "execution_count": 0,
      "outputs": []
    },
    {
      "cell_type": "code",
      "metadata": {
        "id": "CJgH9kZawfOH",
        "colab_type": "code",
        "colab": {}
      },
      "source": [
        "from google.colab import files"
      ],
      "execution_count": 0,
      "outputs": []
    },
    {
      "cell_type": "code",
      "metadata": {
        "id": "xxlKdAHCwjNA",
        "colab_type": "code",
        "colab": {}
      },
      "source": [
        "files.upload()"
      ],
      "execution_count": 0,
      "outputs": []
    },
    {
      "cell_type": "code",
      "metadata": {
        "id": "9KvwwE5fwmcv",
        "colab_type": "code",
        "colab": {}
      },
      "source": [
        " ! mkdir ~/.kaggle "
      ],
      "execution_count": 0,
      "outputs": []
    },
    {
      "cell_type": "code",
      "metadata": {
        "id": "CaBa9Hs4w3jT",
        "colab_type": "code",
        "colab": {}
      },
      "source": [
        "! cp kaggle.json ~/.kaggle/"
      ],
      "execution_count": 0,
      "outputs": []
    },
    {
      "cell_type": "code",
      "metadata": {
        "id": "t_yrRuQrw63U",
        "colab_type": "code",
        "colab": {}
      },
      "source": [
        " ! chmod 600 ~/.kaggle/kaggle.json"
      ],
      "execution_count": 0,
      "outputs": []
    },
    {
      "cell_type": "code",
      "metadata": {
        "id": "FXIqmjdSxIll",
        "colab_type": "code",
        "colab": {}
      },
      "source": [
        " ! kaggle datasets list"
      ],
      "execution_count": 0,
      "outputs": []
    },
    {
      "cell_type": "code",
      "metadata": {
        "id": "9mQn3cYXxSAf",
        "colab_type": "code",
        "colab": {}
      },
      "source": [
        "!kaggle datasets download -d asdasdasasdas/garbage-classification"
      ],
      "execution_count": 0,
      "outputs": []
    },
    {
      "cell_type": "code",
      "metadata": {
        "id": "x3icO0JCxcoN",
        "colab_type": "code",
        "colab": {}
      },
      "source": [
        "! mkdir garbage_classification"
      ],
      "execution_count": 0,
      "outputs": []
    },
    {
      "cell_type": "code",
      "metadata": {
        "id": "EjM5vYEXx7QU",
        "colab_type": "code",
        "colab": {}
      },
      "source": [
        "! unzip garbage-classification.zip -d garbage_classification"
      ],
      "execution_count": 0,
      "outputs": []
    },
    {
      "cell_type": "code",
      "metadata": {
        "id": "NuJ_wViJyE0S",
        "colab_type": "code",
        "colab": {}
      },
      "source": [
        "import numpy\n",
        "import os\n",
        "import cv2"
      ],
      "execution_count": 0,
      "outputs": []
    },
    {
      "cell_type": "code",
      "metadata": {
        "id": "AbbxyBkLyutv",
        "colab_type": "code",
        "colab": {}
      },
      "source": [
        "x=[]\n",
        "z=[]\n",
        "cardboard_directory='/content/garbage_classification/Garbage classification/Garbage classification/cardboard/'\n",
        "glass_directory='/content/garbage_classification/Garbage classification/Garbage classification/glass'\n",
        "metal_directory='/content/garbage_classification/Garbage classification/Garbage classification/metal'\n",
        "paper_directory='/content/garbage_classification/Garbage classification/Garbage classification/paper'\n",
        "plastic_directory='/content/garbage_classification/Garbage classification/Garbage classification/plastic'\n",
        "trash_directory='/content/garbage_classification/Garbage classification/Garbage classification/trash'"
      ],
      "execution_count": 0,
      "outputs": []
    },
    {
      "cell_type": "code",
      "metadata": {
        "id": "jRChbUMezW0A",
        "colab_type": "code",
        "colab": {}
      },
      "source": [
        "\n",
        "from tqdm import tqdm_notebook as tqdm\n",
        "import numpy as np\n",
        "IMG_SIZE=150\n",
        "def assign_label(img,garbage_type):\n",
        "  return garbage_type"
      ],
      "execution_count": 0,
      "outputs": []
    },
    {
      "cell_type": "code",
      "metadata": {
        "id": "k_FdekAdz2LW",
        "colab_type": "code",
        "colab": {}
      },
      "source": [
        "def make_train_data(garbage_type,DIR):\n",
        "  print(os.listdir(DIR))\n",
        "  for img in tqdm(os.listdir(DIR)):\n",
        "    label=assign_label(img,garbage_type)\n",
        "    path=os.path.join(DIR,img)\n",
        "    img=cv2.imread(path,cv2.IMREAD_COLOR)\n",
        "    img=cv2.resize(img,(IMG_SIZE,IMG_SIZE))\n",
        "    x.append(np.array(img))\n",
        "    z.append(str(label))"
      ],
      "execution_count": 0,
      "outputs": []
    },
    {
      "cell_type": "code",
      "metadata": {
        "id": "v_PQdsJo06F2",
        "colab_type": "code",
        "colab": {}
      },
      "source": [
        "make_train_data('cardboard',cardboard_directory)"
      ],
      "execution_count": 0,
      "outputs": []
    },
    {
      "cell_type": "code",
      "metadata": {
        "id": "ICz6tC3w1Cnq",
        "colab_type": "code",
        "colab": {}
      },
      "source": [
        "make_train_data('glass',glass_directory)"
      ],
      "execution_count": 0,
      "outputs": []
    },
    {
      "cell_type": "code",
      "metadata": {
        "id": "UHSFh1bJ_lFC",
        "colab_type": "code",
        "colab": {}
      },
      "source": [
        "make_train_data('metal',metal_directory)"
      ],
      "execution_count": 0,
      "outputs": []
    },
    {
      "cell_type": "code",
      "metadata": {
        "id": "BlzIoZ0N_pXQ",
        "colab_type": "code",
        "colab": {}
      },
      "source": [
        "make_train_data('paper',paper_directory)"
      ],
      "execution_count": 0,
      "outputs": []
    },
    {
      "cell_type": "code",
      "metadata": {
        "id": "vCAWQx32_t66",
        "colab_type": "code",
        "colab": {}
      },
      "source": [
        "make_train_data('plastic',plastic_directory)"
      ],
      "execution_count": 0,
      "outputs": []
    },
    {
      "cell_type": "code",
      "metadata": {
        "id": "Rm7JAlqH_x-t",
        "colab_type": "code",
        "colab": {}
      },
      "source": [
        "make_train_data('trash',trash_directory)"
      ],
      "execution_count": 0,
      "outputs": []
    },
    {
      "cell_type": "code",
      "metadata": {
        "id": "24HlBhXP_2kj",
        "colab_type": "code",
        "colab": {}
      },
      "source": [
        "x"
      ],
      "execution_count": 0,
      "outputs": []
    },
    {
      "cell_type": "code",
      "metadata": {
        "id": "uIgweK-1_5wV",
        "colab_type": "code",
        "colab": {}
      },
      "source": [
        "import matplotlib.pyplot as plt"
      ],
      "execution_count": 0,
      "outputs": []
    },
    {
      "cell_type": "code",
      "metadata": {
        "id": "Yh9g94RJAMnB",
        "colab_type": "code",
        "colab": {}
      },
      "source": [
        "import random as rn\n",
        "fig,ax=plt.subplots(5,2)\n",
        "fig.set_size_inches(15,15)\n",
        "for i in range(5):\n",
        "  for j in range(2):\n",
        "    l=rn.randint(0,len(z))\n",
        "    ax[i,j].imshow(x[l])\n",
        "    ax[i,j].set_title('garbage: '+ z[l])"
      ],
      "execution_count": 0,
      "outputs": []
    },
    {
      "cell_type": "code",
      "metadata": {
        "id": "LoEt2hMEA_WJ",
        "colab_type": "code",
        "colab": {}
      },
      "source": [
        "#Label encoding for categorical variable\n",
        "from sklearn.preprocessing import LabelEncoder\n",
        "from keras.utils import to_categorical\n",
        "from sklearn.model_selection import train_test_split\n",
        "from sklearn.metrics import accuracy_score,precision_score,recall_score,confusion_matrix,roc_curve,roc_auc_score"
      ],
      "execution_count": 0,
      "outputs": []
    },
    {
      "cell_type": "code",
      "metadata": {
        "id": "wmM6zMtiCARB",
        "colab_type": "code",
        "colab": {}
      },
      "source": [
        "le=LabelEncoder()"
      ],
      "execution_count": 0,
      "outputs": []
    },
    {
      "cell_type": "code",
      "metadata": {
        "id": "w4SM9cMcCEOL",
        "colab_type": "code",
        "colab": {}
      },
      "source": [
        "y=le.fit_transform(z)\n",
        "y=to_categorical(y,6)\n",
        "x=np.array(x)\n",
        "x=x/255"
      ],
      "execution_count": 0,
      "outputs": []
    },
    {
      "cell_type": "code",
      "metadata": {
        "id": "gDUswyK3CXXk",
        "colab_type": "code",
        "colab": {}
      },
      "source": [
        "print(len(x))\n",
        "from keras.preprocessing.image import ImageDataGenerator"
      ],
      "execution_count": 0,
      "outputs": []
    },
    {
      "cell_type": "code",
      "metadata": {
        "id": "y8QVkrA3Coer",
        "colab_type": "code",
        "colab": {}
      },
      "source": [
        "\n",
        "x_train,x_test,y_train,y_test=train_test_split(x,y,test_size=0.2,random_state=42)"
      ],
      "execution_count": 0,
      "outputs": []
    },
    {
      "cell_type": "code",
      "metadata": {
        "id": "D1TGedJ0DU2Z",
        "colab_type": "code",
        "colab": {}
      },
      "source": [
        "np.random.seed(42)\n",
        "rn.seed(42)\n"
      ],
      "execution_count": 0,
      "outputs": []
    },
    {
      "cell_type": "code",
      "metadata": {
        "id": "PkucjegDDgbI",
        "colab_type": "code",
        "colab": {}
      },
      "source": [
        "#modelling the model\n",
        "from keras.models import Sequential\n",
        "from keras.layers import Conv2D\n",
        "from keras.layers import MaxPooling2D, Flatten, Dense"
      ],
      "execution_count": 0,
      "outputs": []
    },
    {
      "cell_type": "code",
      "metadata": {
        "id": "5-xGuo0GD1rY",
        "colab_type": "code",
        "colab": {}
      },
      "source": [
        "model = Sequential()\n",
        "model.add(Conv2D(filters = 32, kernel_size = (5,5),padding = 'Same',activation ='relu', input_shape = (150,150,3)))\n",
        "model.add(MaxPooling2D(pool_size=(2,2)))\n",
        "\n",
        "\n",
        "model.add(Conv2D(filters = 64, kernel_size = (3,3),padding = 'Same',activation ='relu'))\n",
        "model.add(MaxPooling2D(pool_size=(2,2), strides=(2,2)))\n",
        " \n",
        "\n",
        "model.add(Conv2D(filters =96, kernel_size = (3,3),padding = 'Same',activation ='relu'))\n",
        "model.add(MaxPooling2D(pool_size=(2,2), strides=(2,2)))\n",
        "\n",
        "model.add(Conv2D(filters = 96, kernel_size = (3,3),padding = 'Same',activation ='relu'))\n",
        "model.add(MaxPooling2D(pool_size=(2,2), strides=(2,2)))\n",
        "\n",
        "model.add(Flatten())\n",
        "model.add(Dense(512,activation='relu'))\n",
        "model.add(Dense(6, activation = \"softmax\"))\n"
      ],
      "execution_count": 0,
      "outputs": []
    },
    {
      "cell_type": "code",
      "metadata": {
        "id": "dj-cr2xbEMyi",
        "colab_type": "code",
        "colab": {}
      },
      "source": [
        "model.compile(optimizer='adam', loss='categorical_crossentropy',metrics=['accuracy'])"
      ],
      "execution_count": 0,
      "outputs": []
    },
    {
      "cell_type": "code",
      "metadata": {
        "id": "nW0UbCRBE5cG",
        "colab_type": "code",
        "colab": {}
      },
      "source": [
        "model.summary()"
      ],
      "execution_count": 0,
      "outputs": []
    },
    {
      "cell_type": "code",
      "metadata": {
        "id": "fdwodKIFE7YS",
        "colab_type": "code",
        "colab": {}
      },
      "source": [
        "batch_size=128\n",
        "epochs=25"
      ],
      "execution_count": 0,
      "outputs": []
    },
    {
      "cell_type": "code",
      "metadata": {
        "id": "jWABWVWMFbEO",
        "colab_type": "code",
        "colab": {}
      },
      "source": [
        "from keras.preprocessing.image import ImageDataGenerator"
      ],
      "execution_count": 0,
      "outputs": []
    },
    {
      "cell_type": "code",
      "metadata": {
        "id": "pjEy7zVIFh80",
        "colab_type": "code",
        "colab": {}
      },
      "source": [
        "datagen=ImageDataGenerator(shear_range=0.2,zoom_range=0.2,horizontal_flip=True,vertical_flip=True)"
      ],
      "execution_count": 0,
      "outputs": []
    },
    {
      "cell_type": "code",
      "metadata": {
        "id": "-9Y_1yUbGIeg",
        "colab_type": "code",
        "colab": {}
      },
      "source": [
        "datagen.fit(x_train)"
      ],
      "execution_count": 0,
      "outputs": []
    },
    {
      "cell_type": "code",
      "metadata": {
        "id": "XhaHNrpzGN6M",
        "colab_type": "code",
        "colab": {}
      },
      "source": [
        "train_generator=datagen.flow(x_train,y_train,batch_size=batch_size)"
      ],
      "execution_count": 0,
      "outputs": []
    },
    {
      "cell_type": "code",
      "metadata": {
        "id": "bTjxGJX6GXt5",
        "colab_type": "code",
        "colab": {}
      },
      "source": [
        "history=model.fit_generator(train_generator,epochs=epochs,validation_data=(x_test,y_test),verbose=1,steps_per_epoch=x_train.shape[0]/batch_size)"
      ],
      "execution_count": 0,
      "outputs": []
    },
    {
      "cell_type": "code",
      "metadata": {
        "id": "5be1MCxUG4_F",
        "colab_type": "code",
        "colab": {}
      },
      "source": [
        "plt.plot(history.history['loss'])\n",
        "plt.plot(history.history['val_loss'])\n",
        "plt.title('Modle Loss')\n",
        "plt.xlabel('loss')\n",
        "plt.ylabel('epochs')\n",
        "plt.legend(['train','test'])\n",
        "plt.show()"
      ],
      "execution_count": 0,
      "outputs": []
    },
    {
      "cell_type": "code",
      "metadata": {
        "id": "2-TkMHa6KhnQ",
        "colab_type": "code",
        "colab": {}
      },
      "source": [
        "plt.plot(history.history['accuracy'])\n",
        "plt.plot(history.history['val_accuracy'])\n",
        "plt.title('Modle Loss')\n",
        "plt.xlabel('accuracy')\n",
        "plt.ylabel('epochs')\n",
        "plt.legend(['train','test'])\n",
        "plt.show()"
      ],
      "execution_count": 0,
      "outputs": []
    },
    {
      "cell_type": "code",
      "metadata": {
        "id": "XNBBKr9CLURU",
        "colab_type": "code",
        "colab": {}
      },
      "source": [
        "#Test the image\n",
        "from keras.preprocessing import image"
      ],
      "execution_count": 0,
      "outputs": []
    },
    {
      "cell_type": "code",
      "metadata": {
        "id": "_s6Hd_CHLz2O",
        "colab_type": "code",
        "colab": {}
      },
      "source": [
        "uploaded=files.upload()\n",
        "for fn in uploaded.keys():\n",
        "  path=fn\n",
        "  img =image.load_img(path,target_size=(150,150))\n",
        "  x=image.img_to_array(img)\n",
        "  x=np.expand_dims(x,axis=0)\n",
        "  images=np.vstack([x])\n",
        "  classes=model.predict(images,batch_size=5)\n",
        "  classes_digits=np.argmax(classes,axis=1)\n",
        "  print(fn)\n",
        "  print(le.inverse_transform(classes_digits))"
      ],
      "execution_count": 0,
      "outputs": []
    },
    {
      "cell_type": "code",
      "metadata": {
        "id": "yKsDEC1YMofZ",
        "colab_type": "code",
        "colab": {}
      },
      "source": [
        "pred=model.predict(x_test)\n",
        "pred_digits=np.argmax(pred,axis=1)\n",
        "print(pred_digits)"
      ],
      "execution_count": 0,
      "outputs": []
    },
    {
      "cell_type": "code",
      "metadata": {
        "id": "txAJbjKkPN9D",
        "colab_type": "code",
        "colab": {}
      },
      "source": [
        "# now storing some properly as well as misclassified indexes'.\n",
        "i=0\n",
        "prop_class=[]\n",
        "mis_class=[]\n",
        "\n",
        "for i in range(len(y_test)):\n",
        "    if(np.argmax(y_test[i])==pred_digits[i]):\n",
        "        prop_class.append(i)\n",
        "    if(len(prop_class)==8):\n",
        "        break\n",
        "\n",
        "i=0\n",
        "for i in range(len(y_test)):\n",
        "    if(not np.argmax(y_test[i])==pred_digits[i]):\n",
        "        mis_class.append(i)\n",
        "    if(len(mis_class)==8):\n",
        "        break"
      ],
      "execution_count": 0,
      "outputs": []
    },
    {
      "cell_type": "code",
      "metadata": {
        "id": "4fIOkRQJPzN7",
        "colab_type": "code",
        "colab": {}
      },
      "source": [
        "import warnings\n",
        "warnings.filterwarnings('always')\n",
        "warnings.filterwarnings('ignore')\n",
        "\n",
        "\n",
        "count=0\n",
        "fig,ax=plt.subplots(4,2)\n",
        "fig.set_size_inches(15,15)\n",
        "for i in range (4):\n",
        "    for j in range (2):\n",
        "        ax[i,j].imshow(x_test[prop_class[count]])\n",
        "        ax[i,j].set_title(\"Predicted garbage : \"+str(le.inverse_transform([pred_digits[prop_class[count]]]))+\"\\n\"+\"Actual garbage : \"+str(le.inverse_transform(np.argmax([y_test[prop_class[count]]]))))\n",
        "        plt.tight_layout()\n",
        "        count+=1"
      ],
      "execution_count": 0,
      "outputs": []
    },
    {
      "cell_type": "code",
      "metadata": {
        "id": "q0Eayih5P5iD",
        "colab_type": "code",
        "colab": {}
      },
      "source": [
        ""
      ],
      "execution_count": 0,
      "outputs": []
    }
  ]
}